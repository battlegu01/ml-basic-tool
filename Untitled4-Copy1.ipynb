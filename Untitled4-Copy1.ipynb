{
 "cells": [
  {
   "cell_type": "code",
   "execution_count": 1,
   "metadata": {
    "collapsed": false
   },
   "outputs": [
    {
     "name": "stderr",
     "output_type": "stream",
     "text": [
      "Using TensorFlow backend.\n"
     ]
    }
   ],
   "source": [
    "from keras.layers import Input, Dense\n",
    "from keras.models import Model"
   ]
  },
  {
   "cell_type": "code",
   "execution_count": 2,
   "metadata": {
    "collapsed": true
   },
   "outputs": [],
   "source": [
    "# this is the size of our encoded representations\n",
    "encoding_dim = 32  # 32 floats -> compression of factor 24.5, assuming the input is 784 floats\n",
    "\n",
    "# this is our input placeholder\n",
    "input_img = Input(shape=(784,))\n",
    "# \"encoded\" is the encoded representation of the input\n",
    "encoded = Dense(encoding_dim, activation='relu')(input_img)\n",
    "# \"decoded\" is the lossy reconstruction of the input\n",
    "decoded = Dense(784, activation='sigmoid')(encoded)\n",
    "\n",
    "# this model maps an input to its reconstruction\n",
    "autoencoder = Model(input_img, decoded)"
   ]
  },
  {
   "cell_type": "code",
   "execution_count": 3,
   "metadata": {
    "collapsed": true
   },
   "outputs": [],
   "source": [
    "# this model maps an input to its encoded representation\n",
    "encoder = Model(input_img, encoded)"
   ]
  },
  {
   "cell_type": "code",
   "execution_count": 4,
   "metadata": {
    "collapsed": true
   },
   "outputs": [],
   "source": [
    "# create a placeholder for an encoded (32-dimensional) input\n",
    "encoded_input = Input(shape=(encoding_dim,))\n",
    "# retrieve the last layer of the autoencoder model\n",
    "decoder_layer = autoencoder.layers[-1]\n",
    "# create the decoder model\n",
    "decoder = Model(encoded_input, decoder_layer(encoded_input))"
   ]
  },
  {
   "cell_type": "code",
   "execution_count": 5,
   "metadata": {
    "collapsed": true
   },
   "outputs": [],
   "source": [
    "autoencoder.compile(optimizer='adadelta', loss='binary_crossentropy')"
   ]
  },
  {
   "cell_type": "code",
   "execution_count": 6,
   "metadata": {
    "collapsed": true
   },
   "outputs": [],
   "source": [
    "from keras.datasets import mnist\n",
    "import numpy as np\n",
    "(x_train, _), (x_test, _) = mnist.load_data()"
   ]
  },
  {
   "cell_type": "code",
   "execution_count": 7,
   "metadata": {
    "collapsed": false
   },
   "outputs": [
    {
     "name": "stdout",
     "output_type": "stream",
     "text": [
      "(60000, 784)\n",
      "(10000, 784)\n"
     ]
    }
   ],
   "source": [
    "x_train = x_train.astype('float32') / 255.\n",
    "x_test = x_test.astype('float32') / 255.\n",
    "x_train = x_train.reshape((len(x_train), np.prod(x_train.shape[1:])))\n",
    "x_test = x_test.reshape((len(x_test), np.prod(x_test.shape[1:])))\n",
    "print x_train.shape\n",
    "print x_test.shape"
   ]
  },
  {
   "cell_type": "code",
   "execution_count": 8,
   "metadata": {
    "collapsed": false
   },
   "outputs": [
    {
     "name": "stdout",
     "output_type": "stream",
     "text": [
      "Train on 60000 samples, validate on 10000 samples\n",
      "Epoch 1/50\n",
      "60000/60000 [==============================] - 8s 131us/step - loss: 0.3726 - val_loss: 0.2726\n",
      "Epoch 2/50\n",
      "60000/60000 [==============================] - 7s 124us/step - loss: 0.2650 - val_loss: 0.2542\n",
      "Epoch 3/50\n",
      "60000/60000 [==============================] - 8s 130us/step - loss: 0.2436 - val_loss: 0.2307\n",
      "Epoch 4/50\n",
      "60000/60000 [==============================] - 7s 121us/step - loss: 0.2227 - val_loss: 0.2125\n",
      "Epoch 5/50\n",
      "60000/60000 [==============================] - 7s 125us/step - loss: 0.2072 - val_loss: 0.1994\n",
      "Epoch 6/50\n",
      "60000/60000 [==============================] - 8s 130us/step - loss: 0.1958 - val_loss: 0.1896\n",
      "Epoch 7/50\n",
      "60000/60000 [==============================] - 9s 142us/step - loss: 0.1871 - val_loss: 0.1819\n",
      "Epoch 8/50\n",
      "60000/60000 [==============================] - 8s 128us/step - loss: 0.1801 - val_loss: 0.1757\n",
      "Epoch 9/50\n",
      "60000/60000 [==============================] - 9s 147us/step - loss: 0.1743 - val_loss: 0.1703\n",
      "Epoch 10/50\n",
      "60000/60000 [==============================] - 8s 139us/step - loss: 0.1693 - val_loss: 0.1656\n",
      "Epoch 11/50\n",
      "60000/60000 [==============================] - 9s 151us/step - loss: 0.1648 - val_loss: 0.1613\n",
      "Epoch 12/50\n",
      "60000/60000 [==============================] - 9s 145us/step - loss: 0.1607 - val_loss: 0.1575\n",
      "Epoch 13/50\n",
      "60000/60000 [==============================] - 8s 134us/step - loss: 0.1570 - val_loss: 0.1540\n",
      "Epoch 14/50\n",
      "60000/60000 [==============================] - 8s 137us/step - loss: 0.1537 - val_loss: 0.1508\n",
      "Epoch 15/50\n",
      "60000/60000 [==============================] - 8s 139us/step - loss: 0.1506 - val_loss: 0.1478\n",
      "Epoch 16/50\n",
      "60000/60000 [==============================] - 9s 143us/step - loss: 0.1478 - val_loss: 0.1450\n",
      "Epoch 17/50\n",
      "60000/60000 [==============================] - 9s 150us/step - loss: 0.1452 - val_loss: 0.1424\n",
      "Epoch 18/50\n",
      "60000/60000 [==============================] - 9s 143us/step - loss: 0.1427 - val_loss: 0.1401\n",
      "Epoch 19/50\n",
      "60000/60000 [==============================] - 8s 128us/step - loss: 0.1404 - val_loss: 0.1378\n",
      "Epoch 20/50\n",
      "60000/60000 [==============================] - 8s 132us/step - loss: 0.1382 - val_loss: 0.1356\n",
      "Epoch 21/50\n",
      "60000/60000 [==============================] - 8s 133us/step - loss: 0.1361 - val_loss: 0.1337\n",
      "Epoch 22/50\n",
      "60000/60000 [==============================] - 8s 133us/step - loss: 0.1342 - val_loss: 0.1317\n",
      "Epoch 23/50\n",
      "60000/60000 [==============================] - 8s 130us/step - loss: 0.1323 - val_loss: 0.1299\n",
      "Epoch 24/50\n",
      "60000/60000 [==============================] - 8s 133us/step - loss: 0.1305 - val_loss: 0.1281\n",
      "Epoch 25/50\n",
      "60000/60000 [==============================] - 8s 130us/step - loss: 0.1288 - val_loss: 0.1264\n",
      "Epoch 26/50\n",
      "60000/60000 [==============================] - 8s 133us/step - loss: 0.1271 - val_loss: 0.1248\n",
      "Epoch 27/50\n",
      "60000/60000 [==============================] - 8s 129us/step - loss: 0.1255 - val_loss: 0.1232\n",
      "Epoch 28/50\n",
      "60000/60000 [==============================] - 8s 132us/step - loss: 0.1240 - val_loss: 0.1217\n",
      "Epoch 29/50\n",
      "60000/60000 [==============================] - 8s 133us/step - loss: 0.1225 - val_loss: 0.1203\n",
      "Epoch 30/50\n",
      "60000/60000 [==============================] - 7s 123us/step - loss: 0.1210 - val_loss: 0.1188\n",
      "Epoch 31/50\n",
      "60000/60000 [==============================] - 8s 125us/step - loss: 0.1197 - val_loss: 0.1175\n",
      "Epoch 32/50\n",
      "60000/60000 [==============================] - 7s 121us/step - loss: 0.1184 - val_loss: 0.1162\n",
      "Epoch 33/50\n",
      "60000/60000 [==============================] - 7s 120us/step - loss: 0.1172 - val_loss: 0.1150\n",
      "Epoch 34/50\n",
      "60000/60000 [==============================] - 8s 132us/step - loss: 0.1160 - val_loss: 0.1138\n",
      "Epoch 35/50\n",
      "60000/60000 [==============================] - 8s 133us/step - loss: 0.1149 - val_loss: 0.1128\n",
      "Epoch 36/50\n",
      "60000/60000 [==============================] - 8s 126us/step - loss: 0.1139 - val_loss: 0.1118\n",
      "Epoch 37/50\n",
      "60000/60000 [==============================] - 8s 128us/step - loss: 0.1129 - val_loss: 0.1109\n",
      "Epoch 38/50\n",
      "60000/60000 [==============================] - 8s 129us/step - loss: 0.1120 - val_loss: 0.1100\n",
      "Epoch 39/50\n",
      "60000/60000 [==============================] - 8s 131us/step - loss: 0.1112 - val_loss: 0.1092\n",
      "Epoch 40/50\n",
      "60000/60000 [==============================] - 7s 122us/step - loss: 0.1104 - val_loss: 0.1084\n",
      "Epoch 41/50\n",
      "60000/60000 [==============================] - 8s 128us/step - loss: 0.1096 - val_loss: 0.1077\n",
      "Epoch 42/50\n",
      "60000/60000 [==============================] - 8s 133us/step - loss: 0.1089 - val_loss: 0.1070\n",
      "Epoch 43/50\n",
      "60000/60000 [==============================] - 8s 125us/step - loss: 0.1083 - val_loss: 0.1064\n",
      "Epoch 44/50\n",
      "60000/60000 [==============================] - 7s 124us/step - loss: 0.1076 - val_loss: 0.1058\n",
      "Epoch 45/50\n",
      "60000/60000 [==============================] - 7s 122us/step - loss: 0.1071 - val_loss: 0.1052\n",
      "Epoch 46/50\n",
      "60000/60000 [==============================] - 7s 118us/step - loss: 0.1065 - val_loss: 0.1047\n",
      "Epoch 47/50\n",
      "60000/60000 [==============================] - 7s 121us/step - loss: 0.1060 - val_loss: 0.1042\n",
      "Epoch 48/50\n",
      "60000/60000 [==============================] - 7s 121us/step - loss: 0.1056 - val_loss: 0.1038\n",
      "Epoch 49/50\n",
      "60000/60000 [==============================] - 7s 118us/step - loss: 0.1051 - val_loss: 0.1034\n",
      "Epoch 50/50\n",
      "60000/60000 [==============================] - 7s 117us/step - loss: 0.1047 - val_loss: 0.1029\n"
     ]
    },
    {
     "data": {
      "text/plain": [
       "<keras.callbacks.History at 0x119221e50>"
      ]
     },
     "execution_count": 8,
     "metadata": {},
     "output_type": "execute_result"
    }
   ],
   "source": [
    "autoencoder.fit(x_train, x_train,\n",
    "                epochs=50,\n",
    "                batch_size=256,\n",
    "                shuffle=True,\n",
    "                validation_data=(x_test, x_test))"
   ]
  },
  {
   "cell_type": "code",
   "execution_count": 9,
   "metadata": {
    "collapsed": true
   },
   "outputs": [],
   "source": [
    "# encode and decode some digits\n",
    "# note that we take them from the *test* set\n",
    "encoded_imgs = encoder.predict(x_test)\n",
    "decoded_imgs = decoder.predict(encoded_imgs)"
   ]
  },
  {
   "cell_type": "code",
   "execution_count": 11,
   "metadata": {
    "collapsed": true
   },
   "outputs": [],
   "source": [
    "# use Matplotlib (don't ask)\n",
    "import matplotlib.pyplot as plt\n",
    "\n",
    "n = 10  # how many digits we will display\n",
    "plt.figure(figsize=(20, 4))\n",
    "for i in range(n):\n",
    "    # display original\n",
    "    ax = plt.subplot(2, n, i + 1)\n",
    "    plt.imshow(x_test[i].reshape(28, 28))\n",
    "    plt.gray()\n",
    "    ax.get_xaxis().set_visible(False)\n",
    "    ax.get_yaxis().set_visible(False)\n",
    "\n",
    "    # display reconstruction\n",
    "    ax = plt.subplot(2, n, i + 1 + n)\n",
    "    plt.imshow(decoded_imgs[i].reshape(28, 28))\n",
    "    plt.gray()\n",
    "    ax.get_xaxis().set_visible(False)\n",
    "    ax.get_yaxis().set_visible(False)\n",
    "plt.show()"
   ]
  },
  {
   "cell_type": "code",
   "execution_count": null,
   "metadata": {
    "collapsed": true
   },
   "outputs": [],
   "source": [
    "# add cnn deep layer\n"
   ]
  }
 ],
 "metadata": {
  "anaconda-cloud": {},
  "kernelspec": {
   "display_name": "Python [Root]",
   "language": "python",
   "name": "Python [Root]"
  },
  "language_info": {
   "codemirror_mode": {
    "name": "ipython",
    "version": 2
   },
   "file_extension": ".py",
   "mimetype": "text/x-python",
   "name": "python",
   "nbconvert_exporter": "python",
   "pygments_lexer": "ipython2",
   "version": "2.7.12"
  }
 },
 "nbformat": 4,
 "nbformat_minor": 0
}
